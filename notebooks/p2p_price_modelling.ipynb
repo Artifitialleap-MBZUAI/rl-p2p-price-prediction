{
 "cells": [
  {
   "cell_type": "markdown",
   "id": "805542be",
   "metadata": {},
   "source": [
    "# Real-time price modelling in P2P Energy Systems"
   ]
  },
  {
   "cell_type": "code",
   "execution_count": 1,
   "id": "d62925e6",
   "metadata": {},
   "outputs": [
    {
     "ename": "ImportError",
     "evalue": "cannot import name 'get' from 'pymgrid' (/home/madog/Software/anaconda3/envs/ml-707-project/lib/python3.10/site-packages/pymgrid/__init__.py)",
     "output_type": "error",
     "traceback": [
      "\u001B[0;31m---------------------------------------------------------------------------\u001B[0m",
      "\u001B[0;31mImportError\u001B[0m                               Traceback (most recent call last)",
      "\u001B[0;32m/tmp/ipykernel_17702/4103925219.py\u001B[0m in \u001B[0;36m<module>\u001B[0;34m\u001B[0m\n\u001B[1;32m      1\u001B[0m \u001B[0;32mimport\u001B[0m \u001B[0msys\u001B[0m\u001B[0;34m\u001B[0m\u001B[0;34m\u001B[0m\u001B[0m\n\u001B[1;32m      2\u001B[0m \u001B[0;32mfrom\u001B[0m \u001B[0mpymgrid\u001B[0m \u001B[0;32mimport\u001B[0m \u001B[0mMicrogridGenerator\u001B[0m \u001B[0;32mas\u001B[0m \u001B[0mmg\u001B[0m\u001B[0;34m\u001B[0m\u001B[0;34m\u001B[0m\u001B[0m\n\u001B[0;32m----> 3\u001B[0;31m \u001B[0;32mfrom\u001B[0m \u001B[0mpymgrid\u001B[0m \u001B[0;32mimport\u001B[0m \u001B[0mget\u001B[0m\u001B[0;34m\u001B[0m\u001B[0;34m\u001B[0m\u001B[0m\n\u001B[0m\u001B[1;32m      4\u001B[0m \u001B[0;32mfrom\u001B[0m \u001B[0mpymgrid\u001B[0m\u001B[0;34m.\u001B[0m\u001B[0mEnvironments\u001B[0m\u001B[0;34m.\u001B[0m\u001B[0mpymgrid_cspla\u001B[0m \u001B[0;32mimport\u001B[0m \u001B[0mMicroGridEnv\u001B[0m\u001B[0;34m\u001B[0m\u001B[0;34m\u001B[0m\u001B[0m\n\u001B[1;32m      5\u001B[0m \u001B[0;34m\u001B[0m\u001B[0m\n",
      "\u001B[0;31mImportError\u001B[0m: cannot import name 'get' from 'pymgrid' (/home/madog/Software/anaconda3/envs/ml-707-project/lib/python3.10/site-packages/pymgrid/__init__.py)"
     ]
    }
   ],
   "source": [
    "import sys\n",
    "from pymgrid import MicrogridGenerator as mg\n",
    "from pymgrid import get\n",
    "from pymgrid.Environments.pymgrid_cspla import MicroGridEnv\n",
    "\n",
    "import matplotlib.pyplot as plt\n",
    "import numpy as np\n",
    "import os\n",
    "import time"
   ]
  },
  {
   "cell_type": "markdown",
   "id": "3faefb8f",
   "metadata": {},
   "source": [
    "# Generate participants (microgrids)"
   ]
  },
  {
   "cell_type": "code",
   "execution_count": 3,
   "id": "df6b3864",
   "metadata": {},
   "outputs": [
    {
     "name": "stderr",
     "output_type": "stream",
     "text": [
      "/home/madog/Software/anaconda3/envs/ml-707-project/lib/python3.10/site-packages/pymgrid/MicrogridGenerator.py:612: FutureWarning:\n",
      "\n",
      "The frame.append method is deprecated and will be removed from pandas in a future version. Use pandas.concat instead.\n",
      "\n"
     ]
    },
    {
     "data": {
      "text/plain": "    load  cost_loss_load  cost_overgeneration  cost_co2  PV_rated_power  \\\n0    960              10                    1       0.1          969.60   \n1  60363              10                    1       0.1        30785.13   \n\n   battery_soc_0  battery_power_charge  battery_power_discharge  \\\n0            0.2                   430                      430   \n1            0.2                 26992                    26992   \n\n   battery_capacity  battery_efficiency  battery_soc_min  battery_soc_max  \\\n0              1718                 0.9              0.2                1   \n1            107965                 0.9              0.2                1   \n\n   battery_cost_cycle  grid_weak  grid_power_import  grid_power_export  \\\n0                0.02          0               1920               1920   \n1                0.02          1             120726             120726   \n\n   genset_polynom_order  genset_polynom_0  genset_polynom_1  genset_polynom_2  \\\n0                   NaN               NaN               NaN               NaN   \n1                   3.0           1.63555          0.435848          0.045227   \n\n   genset_rated_power  genset_pmin  genset_pmax  fuel_cost  genset_co2  \n0                 NaN          NaN          NaN        NaN         NaN  \n1             67070.0         0.05          0.9        0.4         2.0  ",
      "text/html": "<div>\n<style scoped>\n    .dataframe tbody tr th:only-of-type {\n        vertical-align: middle;\n    }\n\n    .dataframe tbody tr th {\n        vertical-align: top;\n    }\n\n    .dataframe thead th {\n        text-align: right;\n    }\n</style>\n<table border=\"1\" class=\"dataframe\">\n  <thead>\n    <tr style=\"text-align: right;\">\n      <th></th>\n      <th>load</th>\n      <th>cost_loss_load</th>\n      <th>cost_overgeneration</th>\n      <th>cost_co2</th>\n      <th>PV_rated_power</th>\n      <th>battery_soc_0</th>\n      <th>battery_power_charge</th>\n      <th>battery_power_discharge</th>\n      <th>battery_capacity</th>\n      <th>battery_efficiency</th>\n      <th>battery_soc_min</th>\n      <th>battery_soc_max</th>\n      <th>battery_cost_cycle</th>\n      <th>grid_weak</th>\n      <th>grid_power_import</th>\n      <th>grid_power_export</th>\n      <th>genset_polynom_order</th>\n      <th>genset_polynom_0</th>\n      <th>genset_polynom_1</th>\n      <th>genset_polynom_2</th>\n      <th>genset_rated_power</th>\n      <th>genset_pmin</th>\n      <th>genset_pmax</th>\n      <th>fuel_cost</th>\n      <th>genset_co2</th>\n    </tr>\n  </thead>\n  <tbody>\n    <tr>\n      <th>0</th>\n      <td>960</td>\n      <td>10</td>\n      <td>1</td>\n      <td>0.1</td>\n      <td>969.60</td>\n      <td>0.2</td>\n      <td>430</td>\n      <td>430</td>\n      <td>1718</td>\n      <td>0.9</td>\n      <td>0.2</td>\n      <td>1</td>\n      <td>0.02</td>\n      <td>0</td>\n      <td>1920</td>\n      <td>1920</td>\n      <td>NaN</td>\n      <td>NaN</td>\n      <td>NaN</td>\n      <td>NaN</td>\n      <td>NaN</td>\n      <td>NaN</td>\n      <td>NaN</td>\n      <td>NaN</td>\n      <td>NaN</td>\n    </tr>\n    <tr>\n      <th>1</th>\n      <td>60363</td>\n      <td>10</td>\n      <td>1</td>\n      <td>0.1</td>\n      <td>30785.13</td>\n      <td>0.2</td>\n      <td>26992</td>\n      <td>26992</td>\n      <td>107965</td>\n      <td>0.9</td>\n      <td>0.2</td>\n      <td>1</td>\n      <td>0.02</td>\n      <td>1</td>\n      <td>120726</td>\n      <td>120726</td>\n      <td>3.0</td>\n      <td>1.63555</td>\n      <td>0.435848</td>\n      <td>0.045227</td>\n      <td>67070.0</td>\n      <td>0.05</td>\n      <td>0.9</td>\n      <td>0.4</td>\n      <td>2.0</td>\n    </tr>\n  </tbody>\n</table>\n</div>"
     },
     "metadata": {},
     "output_type": "display_data"
    },
    {
     "data": {
      "text/plain": "['load',\n 'pv_consummed',\n 'pv_curtailed',\n 'pv',\n 'battery_charge',\n 'battery_discharge',\n 'grid_import',\n 'grid_export']"
     },
     "execution_count": 3,
     "metadata": {},
     "output_type": "execute_result"
    }
   ],
   "source": [
    "env = mg.MicrogridGenerator(nb_microgrid=2)\n",
    "env.generate_microgrid(verbose = True)\n",
    "\n",
    "mg0 = env.microgrids[0]\n",
    "mg1 = env.microgrids[1]\n",
    "\n",
    "# Customize the microgrids\n",
    "\n",
    "mg0.get_control_dict()"
   ]
  },
  {
   "cell_type": "code",
   "execution_count": 4,
   "id": "115498c4",
   "metadata": {},
   "outputs": [
    {
     "name": "stdout",
     "output_type": "stream",
     "text": [
      "Microgrid 0 architecture: {'PV': 1, 'battery': 1, 'genset': 0, 'grid': 1}\n",
      "Microgrid 1 architecture: {'PV': 1, 'battery': 1, 'genset': 1, 'grid': 1}\n"
     ]
    }
   ],
   "source": [
    "for i in range(env.nb_microgrids):\n",
    "    \n",
    "    print(\"Microgrid {} architecture: {}\".format(int(i), str(env.microgrids[i].architecture)))"
   ]
  },
  {
   "cell_type": "code",
   "execution_count": null,
   "id": "fec6016c",
   "metadata": {},
   "outputs": [],
   "source": [
    "#these line will create a list of microgrid\n",
    "env = mg.MicrogridGenerator(nb_microgrid=25)\n",
    "pymgrid25 = env.load('pymgrid25')\n",
    "mg = pymgrid25.microgrids\n",
    "\n",
    "#you can pass any of the microgrid to environment class:\n",
    "env = MicroGridEnv({'microgrid':mg[0]})\n",
    "\n",
    "#example of codes to to interact with the environment:\n",
    "episode_reward = 0\n",
    "done = False\n",
    "obs = env.reset()\n",
    "while not done:\n",
    "    action = #your algorithm to select the next action\n",
    "    obs, reward, done, info = env.step(action)\n",
    "    episode_reward += reward"
   ]
  }
 ],
 "metadata": {
  "kernelspec": {
   "display_name": "Python 3 (ipykernel)",
   "language": "python",
   "name": "python3"
  },
  "language_info": {
   "codemirror_mode": {
    "name": "ipython",
    "version": 3
   },
   "file_extension": ".py",
   "mimetype": "text/x-python",
   "name": "python",
   "nbconvert_exporter": "python",
   "pygments_lexer": "ipython3",
   "version": "3.8.10"
  }
 },
 "nbformat": 4,
 "nbformat_minor": 5
}