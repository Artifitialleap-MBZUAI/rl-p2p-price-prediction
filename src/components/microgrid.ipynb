{
 "cells": [
  {
   "cell_type": "code",
   "execution_count": 1,
   "metadata": {
    "collapsed": true
   },
   "outputs": [
    {
     "name": "stderr",
     "output_type": "stream",
     "text": [
      "/home/madog/Software/anaconda3/envs/ml-707/lib/python3.9/site-packages/pymgrid/MicrogridGenerator.py:612: FutureWarning:\n",
      "\n",
      "The frame.append method is deprecated and will be removed from pandas in a future version. Use pandas.concat instead.\n",
      "\n"
     ]
    },
    {
     "data": {
      "text/plain": "   load  cost_loss_load  cost_overgeneration  cost_co2  PV_rated_power  \\\n0   960              10                    1       0.1           969.6   \n\n   battery_soc_0  battery_power_charge  battery_power_discharge  \\\n0            0.2                   430                      430   \n\n   battery_capacity  battery_efficiency  battery_soc_min  battery_soc_max  \\\n0              1718                 0.9              0.2                1   \n\n   battery_cost_cycle  grid_weak  grid_power_import  grid_power_export  \n0                0.02          0               1920               1920  ",
      "text/html": "<div>\n<style scoped>\n    .dataframe tbody tr th:only-of-type {\n        vertical-align: middle;\n    }\n\n    .dataframe tbody tr th {\n        vertical-align: top;\n    }\n\n    .dataframe thead th {\n        text-align: right;\n    }\n</style>\n<table border=\"1\" class=\"dataframe\">\n  <thead>\n    <tr style=\"text-align: right;\">\n      <th></th>\n      <th>load</th>\n      <th>cost_loss_load</th>\n      <th>cost_overgeneration</th>\n      <th>cost_co2</th>\n      <th>PV_rated_power</th>\n      <th>battery_soc_0</th>\n      <th>battery_power_charge</th>\n      <th>battery_power_discharge</th>\n      <th>battery_capacity</th>\n      <th>battery_efficiency</th>\n      <th>battery_soc_min</th>\n      <th>battery_soc_max</th>\n      <th>battery_cost_cycle</th>\n      <th>grid_weak</th>\n      <th>grid_power_import</th>\n      <th>grid_power_export</th>\n    </tr>\n  </thead>\n  <tbody>\n    <tr>\n      <th>0</th>\n      <td>960</td>\n      <td>10</td>\n      <td>1</td>\n      <td>0.1</td>\n      <td>969.6</td>\n      <td>0.2</td>\n      <td>430</td>\n      <td>430</td>\n      <td>1718</td>\n      <td>0.9</td>\n      <td>0.2</td>\n      <td>1</td>\n      <td>0.02</td>\n      <td>0</td>\n      <td>1920</td>\n      <td>1920</td>\n    </tr>\n  </tbody>\n</table>\n</div>"
     },
     "metadata": {},
     "output_type": "display_data"
    }
   ],
   "source": [
    "import pymgrid\n",
    "import matplotlib.pyplot as plt\n",
    "import pandas as pd\n",
    "import numpy as np\n",
    "\n",
    "from random import sample, random\n",
    "\n",
    "from pymgrid import MicrogridGenerator as mg\n",
    "\n",
    "\n",
    "class Microgrid:\n",
    "\n",
    "    def __init__(self, n_participants: int):\n",
    "        self.participants = []\n",
    "        self._current_t = 0\n",
    "\n",
    "        env = mg.MicrogridGenerator(nb_microgrid=n_participants)\n",
    "        env.generate_microgrid(verbose=True)\n",
    "\n",
    "        self.participants = env.microgrids\n",
    "\n",
    "    def get_current_step_obs(self, size_of_slot: int = 24):\n",
    "\n",
    "        d_t = 0\n",
    "        sum_e_t = 0\n",
    "        es_t = 0\n",
    "        v_h = []\n",
    "\n",
    "        for participant in self.participants:\n",
    "\n",
    "            participant_consumption = participant._load_ts.iloc[self._current_t][0]\n",
    "            participant_generation = participant._pv_ts.iloc[self._current_t][0]\n",
    "\n",
    "            demand_variation = 0.05*participant_consumption if random() < 0.5 else -0.05*participant_consumption\n",
    "            participant_demand = participant_consumption + demand_variation\n",
    "\n",
    "            d_t += participant_demand\n",
    "            sum_e_t += participant_consumption\n",
    "            v_h.append(participant_consumption)\n",
    "\n",
    "            # Check surplus constraints\n",
    "            surplus = participant_generation - participant_consumption\n",
    "            es_t += surplus if surplus > 0 else 0\n",
    "\n",
    "        # Compute the period of the day\n",
    "\n",
    "        h_t = self._current_t % size_of_slot\n",
    "\n",
    "        # Compute c_t\n",
    "\n",
    "        v_h_t = np.mean(v_h)\n",
    "        b_h = v_h_t*np.arange(0.25,2,0.25)\n",
    "        b_h_t = sample(b_h)\n",
    "        alpha_t = 0.02\n",
    "\n",
    "        c_t = alpha_t * sum_e_t + b_h_t * sum_e_t**2\n",
    "\n",
    "        return d_t, h_t, c_t, es_t\n",
    "\n",
    "        # mg0 = env.microgrids[0]\n",
    "        # mg1 = env.microgrids[1]\n",
    "        # mg2 = env.microgrids[2]\n",
    "        #\n",
    "        # p_0 = self.participants\n",
    "        #\n",
    "        # mg0._load_ts[0:24*3].plot()\n",
    "        #\n",
    "        # plt.show()\n",
    "        #\n",
    "        # mg0._pv_ts[0:24*3].plot()\n",
    "        #\n",
    "        # plt.show()\n",
    "        #\n",
    "        # pd.DataFrame(mg0._pv_ts[0:24*3].to_numpy()-mg0._load_ts[0:24*3].to_numpy()).plot()\n",
    "\n",
    "\n",
    "\n",
    "    # def loads(self):\n",
    "    #\n",
    "    #     for participant in self.participants:\n",
    "\n",
    "\n",
    "if __name__ == '__main__':\n",
    "\n",
    "    mgrid = microgrid(n_participants=1)\n"
   ]
  }
 ],
 "metadata": {
  "kernelspec": {
   "display_name": "Python 3",
   "language": "python",
   "name": "python3"
  },
  "language_info": {
   "codemirror_mode": {
    "name": "ipython",
    "version": 2
   },
   "file_extension": ".py",
   "mimetype": "text/x-python",
   "name": "python",
   "nbconvert_exporter": "python",
   "pygments_lexer": "ipython2",
   "version": "2.7.6"
  }
 },
 "nbformat": 4,
 "nbformat_minor": 0
}